{
 "cells": [
  {
   "cell_type": "code",
   "execution_count": 3,
   "id": "64db11c5-67f1-4f3d-9ecd-11e1c360b286",
   "metadata": {},
   "outputs": [
    {
     "name": "stderr",
     "output_type": "stream",
     "text": [
      "C:\\Users\\arpit\\AppData\\Local\\Packages\\PythonSoftwareFoundation.Python.3.10_qbz5n2kfra8p0\\LocalCache\\local-packages\\Python310\\site-packages\\langchain_core\\_api\\deprecation.py:119: LangChainDeprecationWarning: The class `LLMChain` was deprecated in LangChain 0.1.17 and will be removed in 0.3.0. Use RunnableSequence, e.g., `prompt | llm` instead.\n",
      "  warn_deprecated(\n",
      "C:\\Users\\arpit\\AppData\\Local\\Packages\\PythonSoftwareFoundation.Python.3.10_qbz5n2kfra8p0\\LocalCache\\local-packages\\Python310\\site-packages\\langchain_core\\_api\\deprecation.py:119: LangChainDeprecationWarning: The method `Chain.run` was deprecated in langchain 0.1.0 and will be removed in 0.3.0. Use invoke instead.\n",
      "  warn_deprecated(\n"
     ]
    },
    {
     "name": "stdout",
     "output_type": "stream",
     "text": [
      "\n",
      "\n",
      "\u001b[1m> Entering new LLMChain chain...\u001b[0m\n",
      "Prompt after formatting:\n",
      "\u001b[32;1m\u001b[1;3mTranslate English to SQL : What is the average age of the respondents using a mobile device?\u001b[0m\n",
      "\n",
      "\u001b[1m> Finished chain.\u001b[0m\n",
      "SELECT AVG Age (years) FROM table WHERE Device = mobile\n"
     ]
    }
   ],
   "source": [
    "from langchain import HuggingFaceHub, LLMChain\n",
    "from langchain.prompts import PromptTemplate\n",
    "import os\n",
    "import tempfile\n",
    "\n",
    "# Set the cache directory to a temporary directory\n",
    "cache_dir = tempfile.mkdtemp()\n",
    "\n",
    "\n",
    "# Set your Hugging Face API key\n",
    "HF_API_KEY ='your access token here'\n",
    "os.environ['HF_HOME'] = cache_dir  # Ensure this directory exists and is writable\n",
    "os.environ['HUGGINGFACEHUB_API_TOKEN'] = HF_API_KEY  # This sets the API key in the environment\n",
    "\n",
    "\n",
    "# t5-base-finetuned-wikiSQl - Google's T5 fine tuned on WikiSQL for English to SQL translation\n",
    "\n",
    "\n",
    "\n",
    "hub_llm = HuggingFaceHub(repo_id='mrm8488/t5-base-finetuned-wikiSQL')\n",
    "\n",
    "# Creating a template\n",
    "prompt = PromptTemplate(\n",
    "    input_variables=[\"question\"],\n",
    "    template=\"Translate English to SQL : {question}\"\n",
    ")\n",
    "\n",
    "hub_chain = LLMChain(prompt=prompt, llm=hub_llm, verbose=True)\n",
    "print(hub_chain.run(\"What is the average age of the respondents using a mobile device?\"))\n",
    "\n"
   ]
  },
  {
   "cell_type": "code",
   "execution_count": null,
   "id": "f6452011-ed53-4260-a1ea-605da066fc96",
   "metadata": {},
   "outputs": [],
   "source": []
  },
  {
   "cell_type": "code",
   "execution_count": null,
   "id": "91d77678-fd72-4bd5-8605-bc3cbf177510",
   "metadata": {},
   "outputs": [],
   "source": []
  },
  {
   "cell_type": "code",
   "execution_count": null,
   "id": "e49d1306-167f-4183-83e3-6d9d790e2feb",
   "metadata": {},
   "outputs": [],
   "source": []
  },
  {
   "cell_type": "code",
   "execution_count": null,
   "id": "fb58b2d7-c06c-4742-94a0-6f67f66b9ee0",
   "metadata": {},
   "outputs": [],
   "source": []
  }
 ],
 "metadata": {
  "kernelspec": {
   "display_name": "Python 3 (ipykernel)",
   "language": "python",
   "name": "python3"
  },
  "language_info": {
   "codemirror_mode": {
    "name": "ipython",
    "version": 3
   },
   "file_extension": ".py",
   "mimetype": "text/x-python",
   "name": "python",
   "nbconvert_exporter": "python",
   "pygments_lexer": "ipython3",
   "version": "3.10.11"
  }
 },
 "nbformat": 4,
 "nbformat_minor": 5
}
