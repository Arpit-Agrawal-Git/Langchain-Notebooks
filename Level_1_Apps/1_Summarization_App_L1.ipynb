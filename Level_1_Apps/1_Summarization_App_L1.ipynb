{
 "cells": [
  {
   "cell_type": "code",
   "execution_count": 1,
   "id": "e4fc491a-0270-4f50-9f54-49c81d5d1fd7",
   "metadata": {},
   "outputs": [],
   "source": [
    "import os\n",
    "from dotenv import load_dotenv, find_dotenv\n",
    "_ = load_dotenv(find_dotenv())\n",
    "openai_api_key = os.environ[\"OPENAI_API_KEY\"]"
   ]
  },
  {
   "cell_type": "markdown",
   "id": "53569208-eefb-400b-92f9-f63a88352ba5",
   "metadata": {},
   "source": [
    "## Basic Use Case: Summarize a Text File"
   ]
  },
  {
   "cell_type": "code",
   "execution_count": null,
   "id": "bd631867-f2c0-4005-b3fc-6b90794f77b0",
   "metadata": {},
   "outputs": [],
   "source": [
    "# !pip install openai"
   ]
  },
  {
   "cell_type": "code",
   "execution_count": 3,
   "id": "e350f508-0fed-419c-97f4-e2701e06d61e",
   "metadata": {},
   "outputs": [],
   "source": [
    "from langchain_openai import OpenAI\n",
    "llm = OpenAI(openai_api_key=openai_api_key)"
   ]
  },
  {
   "cell_type": "markdown",
   "id": "6e98370b-dc76-4aa6-8e30-9514127e818e",
   "metadata": {},
   "source": [
    "**Load the file**"
   ]
  },
  {
   "cell_type": "code",
   "execution_count": 8,
   "id": "152c76f2",
   "metadata": {},
   "outputs": [],
   "source": [
    "import fitz  # PyMuPDF\n",
    "\n",
    "def extract_text_from_pdf(pdf_path):\n",
    "    # Open the PDF file\n",
    "    pdf_document = fitz.open(pdf_path)\n",
    "    \n",
    "    # Initialize a variable to hold all the text\n",
    "    all_text = \"\"\n",
    "    \n",
    "    # Loop through each page\n",
    "    for page_number in range(len(pdf_document)):\n",
    "        # Get the page\n",
    "        page = pdf_document.load_page(page_number)\n",
    "        \n",
    "        # Extract text\n",
    "        text = page.get_text()\n",
    "        \n",
    "        # Append text to the all_text variable\n",
    "        all_text += text + \"\\n\"\n",
    "    \n",
    "    return all_text\n",
    "# Path to your PDF file\n",
    "pdf_path = r'C:\\Users\\arpit\\Desktop\\UG\\Arpit Agrawal DS\\LLMOps\\Langchain Level 1 Apps\\Summarization_App\\SM1671 52141501SD03434-RD EMARVEL 260C THI ST GL.pdf'\n",
    "# Extract text from the PDF\n",
    "text = extract_text_from_pdf(pdf_path)\n"
   ]
  },
  {
   "cell_type": "code",
   "execution_count": null,
   "id": "af73a1cf-a538-43d3-bde6-ba548648b42f",
   "metadata": {},
   "outputs": [],
   "source": [
    "# # with open(, 'r') as file:\n",
    "#     article = file.read()"
   ]
  },
  {
   "cell_type": "code",
   "execution_count": 9,
   "id": "c9aa63f3-366c-46a0-85b6-839ae9b144cd",
   "metadata": {},
   "outputs": [
    {
     "name": "stdout",
     "output_type": "stream",
     "text": [
      "<class 'str'>\n"
     ]
    }
   ],
   "source": [
    "print(type(text))"
   ]
  },
  {
   "cell_type": "markdown",
   "id": "97602f83-729c-4919-95dc-8116baaa1727",
   "metadata": {},
   "source": [
    "**Print the first 285 characters of the text**"
   ]
  },
  {
   "cell_type": "code",
   "execution_count": 10,
   "id": "8f4cfd7a-5c15-436b-897d-04b38562963a",
   "metadata": {},
   "outputs": [
    {
     "name": "stdout",
     "output_type": "stream",
     "text": [
      " \n",
      "Classification: Public \n",
      "  \n",
      "  \n",
      " \n",
      " \n",
      " \n",
      "April-2024 \n",
      "Godrej & Boyce Mfg. Co. Ltd. \n",
      "(Appliance Division) \n",
      " \n",
      " \n",
      " \n",
      " \n",
      "            SM 1671 \n",
      " \n",
      "SERVICE TECHNICIAN GUIDE FOR \n",
      "GODREJ DIRECT COOL REFRIGERATORS \n",
      "RD EMARVEL 260C THI ST GL      \n",
      " \n",
      " \n",
      " \n",
      "*IMAGE MAY NOT BE EXACT REPLICA OF ACTUAL MODEL. \n",
      "\n"
     ]
    }
   ],
   "source": [
    "print(text[:285])"
   ]
  },
  {
   "cell_type": "markdown",
   "id": "051cd10b-cf73-4eb0-9125-1090a8d930ce",
   "metadata": {},
   "source": [
    "**Check how many tokens are in the article**"
   ]
  },
  {
   "cell_type": "code",
   "execution_count": 11,
   "id": "e8dfe7bc-2f8c-44c8-b097-d0572aa7b384",
   "metadata": {},
   "outputs": [],
   "source": [
    "num_tokens = llm.get_num_tokens(text)"
   ]
  },
  {
   "cell_type": "code",
   "execution_count": 13,
   "id": "1abaf389-0b97-4492-98e9-67f049b89fe0",
   "metadata": {},
   "outputs": [
    {
     "name": "stdout",
     "output_type": "stream",
     "text": [
      "There are 7296 in the article.\n"
     ]
    }
   ],
   "source": [
    "print(f\"There are {num_tokens} in the article.\")"
   ]
  },
  {
   "cell_type": "markdown",
   "id": "ab9738ed-b07d-462e-824a-e1e0e3419e8c",
   "metadata": {},
   "source": [
    "**ChatGPT-3.5 has a context window of 4097 tokens**\n",
    "* This means that we cannot enter all this text in chatGPT to summarize it."
   ]
  },
  {
   "cell_type": "markdown",
   "id": "2c2a972a-d3c1-4aac-b57d-6a814cc021cc",
   "metadata": {},
   "source": [
    "**Split the article in smaller chunks**"
   ]
  },
  {
   "cell_type": "code",
   "execution_count": 14,
   "id": "cf6ef48d-f633-4ace-8477-6b55c33f4b57",
   "metadata": {},
   "outputs": [],
   "source": [
    "from langchain.text_splitter import RecursiveCharacterTextSplitter"
   ]
  },
  {
   "cell_type": "code",
   "execution_count": 15,
   "id": "74f79206-f831-443f-8253-6f81b440a475",
   "metadata": {},
   "outputs": [],
   "source": [
    "text_splitter = RecursiveCharacterTextSplitter(\n",
    "    separators=[\"\\n\\n\", \"\\n\"], \n",
    "    chunk_size=5000,\n",
    "    chunk_overlap=350\n",
    ")"
   ]
  },
  {
   "cell_type": "code",
   "execution_count": 16,
   "id": "a8d7f87d-61e9-49bc-97ff-4793c0d28ca8",
   "metadata": {},
   "outputs": [],
   "source": [
    "article_chunks = text_splitter.create_documents([text])"
   ]
  },
  {
   "cell_type": "code",
   "execution_count": 17,
   "id": "a1e3cfa5-db7b-4f90-a9ef-ec4dd6bafec6",
   "metadata": {},
   "outputs": [
    {
     "name": "stdout",
     "output_type": "stream",
     "text": [
      "You have 7 chunks instead of 1 article.\n"
     ]
    }
   ],
   "source": [
    "print(f\"You have {len(article_chunks)} chunks instead of 1 article.\")"
   ]
  },
  {
   "cell_type": "markdown",
   "id": "1128210e-420f-456e-800c-4abfd6584eb8",
   "metadata": {},
   "source": [
    "**Use a chain to help the LLM to summarize the 8 chunks**"
   ]
  },
  {
   "cell_type": "code",
   "execution_count": 18,
   "id": "1c0b9634-1fd8-43c0-a720-53475a3570d8",
   "metadata": {},
   "outputs": [],
   "source": [
    "from langchain.chains.summarize import load_summarize_chain"
   ]
  },
  {
   "cell_type": "code",
   "execution_count": 19,
   "id": "8fd39d3a-6348-459c-a5b4-feaaa0796365",
   "metadata": {},
   "outputs": [],
   "source": [
    "chain = load_summarize_chain(\n",
    "    llm=llm,\n",
    "    chain_type=\"map_reduce\"\n",
    ")"
   ]
  },
  {
   "cell_type": "code",
   "execution_count": 20,
   "id": "cc94614a-8efc-4cfa-b0ca-f9141d864bbd",
   "metadata": {},
   "outputs": [
    {
     "name": "stderr",
     "output_type": "stream",
     "text": [
      "C:\\Users\\arpit\\AppData\\Local\\Packages\\PythonSoftwareFoundation.Python.3.10_qbz5n2kfra8p0\\LocalCache\\local-packages\\Python310\\site-packages\\langchain_core\\_api\\deprecation.py:119: LangChainDeprecationWarning: The method `Chain.run` was deprecated in langchain 0.1.0 and will be removed in 0.3.0. Use invoke instead.\n",
      "  warn_deprecated(\n"
     ]
    }
   ],
   "source": [
    "article_summary = chain.run(article_chunks)"
   ]
  },
  {
   "cell_type": "code",
   "execution_count": 21,
   "id": "d7af84c6-8a5c-4640-b123-6fdeb51dcb98",
   "metadata": {},
   "outputs": [
    {
     "name": "stdout",
     "output_type": "stream",
     "text": [
      "\n",
      "This document is a comprehensive guide for servicing a Godrej direct cool refrigerator model, including safety precautions, installation instructions, cleaning and maintenance procedures, and troubleshooting charts. It also provides information on the nomenclature, specifications, and accessories of the EMARVEL 260 refrigerator model. Proper installation and use of the refrigerator is emphasized, as well as guidelines for customer service and warranty information. The document also includes a spare parts list and recommended tools for installation and repair. Proper safety practices and training are important for effective servicing.\n"
     ]
    }
   ],
   "source": [
    "print(article_summary)"
   ]
  },
  {
   "cell_type": "markdown",
   "id": "85b2e1eb",
   "metadata": {},
   "source": [
    "\n",
    "This document is a comprehensive guide for servicing a Godrej direct cool refrigerator model, including safety precautions, installation instructions, cleaning and maintenance procedures, and troubleshooting charts. It also provides information on the nomenclature, specifications, and accessories of the EMARVEL 260 refrigerator model. Proper installation and use of the refrigerator is emphasized, as well as guidelines for customer service and warranty information. The document also includes a spare parts list and recommended tools for installation and repair. Proper safety practices and training are important for effective servicing.\n"
   ]
  },
  {
   "cell_type": "code",
   "execution_count": null,
   "id": "36fa1303-d1a5-43a9-8495-6bd43735d4b8",
   "metadata": {},
   "outputs": [],
   "source": []
  }
 ],
 "metadata": {
  "kernelspec": {
   "display_name": "Python 3 (ipykernel)",
   "language": "python",
   "name": "python3"
  },
  "language_info": {
   "codemirror_mode": {
    "name": "ipython",
    "version": 3
   },
   "file_extension": ".py",
   "mimetype": "text/x-python",
   "name": "python",
   "nbconvert_exporter": "python",
   "pygments_lexer": "ipython3",
   "version": "3.10.11"
  }
 },
 "nbformat": 4,
 "nbformat_minor": 5
}
